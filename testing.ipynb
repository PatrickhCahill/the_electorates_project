{
 "cells": [
  {
   "cell_type": "code",
   "execution_count": 1,
   "metadata": {},
   "outputs": [],
   "source": [
    "import os,sys\n",
    "\n",
    "elections = ['2004','2007','2010','2013','2016','2019','2022']\n",
    "files = ['pollingplaces', 'primaries', 'tpptcp']"
   ]
  },
  {
   "cell_type": "code",
   "execution_count": 2,
   "metadata": {},
   "outputs": [],
   "source": [
    "import pandas as pd\n",
    "import numpy as np"
   ]
  },
  {
   "cell_type": "code",
   "execution_count": 3,
   "metadata": {},
   "outputs": [
    {
     "data": {
      "text/plain": [
       "['HouseStateFirstPrefsByPollingPlaceDownload-12246-ACT.csv',\n",
       " 'HouseStateFirstPrefsByPollingPlaceDownload-12246-NSW.csv',\n",
       " 'HouseStateFirstPrefsByPollingPlaceDownload-12246-NT.csv',\n",
       " 'HouseStateFirstPrefsByPollingPlaceDownload-12246-QLD.csv',\n",
       " 'HouseStateFirstPrefsByPollingPlaceDownload-12246-SA.csv',\n",
       " 'HouseStateFirstPrefsByPollingPlaceDownload-12246-TAS.csv',\n",
       " 'HouseStateFirstPrefsByPollingPlaceDownload-12246-VIC.csv',\n",
       " 'HouseStateFirstPrefsByPollingPlaceDownload-12246-WA.csv']"
      ]
     },
     "execution_count": 3,
     "metadata": {},
     "output_type": "execute_result"
    }
   ],
   "source": [
    "os.listdir(f\"data/{elections[0]}/{files[1]}\")"
   ]
  },
  {
   "cell_type": "code",
   "execution_count": 4,
   "metadata": {},
   "outputs": [],
   "source": [
    "def makeid(row):\n",
    "    pollingid = str(row[\"PollingPlaceID\"])\n",
    "    partyid = row[\"PartyAb\"]\n",
    "\n",
    "    if type(partyid) != str:\n",
    "        if np.isnan(partyid):\n",
    "            partyid = row[\"Surname\"].upper()\n",
    "    elif partyid.upper() == \"IND\":\n",
    "        partyid = row[\"Surname\"].upper()\n",
    "\n",
    "    return str(row[\"PollingPlaceID\"])+str(partyid)\n",
    "\n",
    "dfs = []\n",
    "for electionyear in elections:\n",
    "    for file in os.listdir(f\"data/{electionyear}/{files[1]}\"):\n",
    "        file = os.path.join(f\"data/{electionyear}/{files[1]}\",file)\n",
    "        if 'prdelms' in file:\n",
    "            ppid_locations = pd.read_csv(file)\n",
    "            continue\n",
    "        boothresults = pd.read_csv(file,header=1)\n",
    "        try:\n",
    "            boothresults['id'] = boothresults.apply(makeid, axis=1)\n",
    "        except KeyError as e:\n",
    "            print(file)\n",
    "            raise e     \n",
    "        boothresults['year'] = electionyear\n",
    "        boothresults['uniqueid'] = boothresults.apply(lambda row: str(row[\"id\"])+str(row[\"year\"]), axis=1)\n",
    "\n",
    "        boothresults.set_index('uniqueid', inplace=True)\n",
    "        dfs.append(boothresults)\n",
    "\n"
   ]
  },
  {
   "cell_type": "code",
   "execution_count": null,
   "metadata": {},
   "outputs": [],
   "source": [
    "df = pd.concat(dfs)\n",
    "# df = df[df['StateAb']=='NSW']\n",
    "df = df[df['year']==2022]\n",
    "\n",
    "df.head()"
   ]
  },
  {
   "cell_type": "code",
   "execution_count": null,
   "metadata": {},
   "outputs": [],
   "source": [
    "pivot_df = df.pivot(index=\"id\",columns='year', values='OrdinaryVotes')\n",
    "covmat = pivot_df.dropna(axis=0).T.corr()"
   ]
  },
  {
   "cell_type": "code",
   "execution_count": null,
   "metadata": {},
   "outputs": [],
   "source": [
    "import matplotlib.pyplot as plt"
   ]
  },
  {
   "cell_type": "code",
   "execution_count": null,
   "metadata": {},
   "outputs": [],
   "source": [
    "plt.figure(figsize=(10,10))\n",
    "plt.imshow(covmat.values, cmap='viridis', aspect='auto')\n",
    "plt.show()"
   ]
  },
  {
   "cell_type": "code",
   "execution_count": null,
   "metadata": {},
   "outputs": [],
   "source": [
    "from sklearn.cluster import KMeans\n",
    "kmeans = KMeans(46)\n",
    "kmeans.fit_predict(covmat)"
   ]
  },
  {
   "cell_type": "code",
   "execution_count": null,
   "metadata": {},
   "outputs": [],
   "source": [
    "cluster_labels = kmeans.fit_predict(covmat)\n",
    "\n",
    "# Reorder the correlation matrix based on the cluster labels\n",
    "sorted_indices = np.argsort(cluster_labels)\n",
    "sorted_correlation_matrix = covmat.iloc[sorted_indices][covmat.columns[sorted_indices]]\n",
    "\n",
    "plt.figure(figsize=(22,22),dpi=200)\n",
    "plt.imshow(sorted_correlation_matrix, cmap='viridis', aspect='auto')\n",
    "plt.grid(False)\n",
    "plt.show()"
   ]
  },
  {
   "cell_type": "code",
   "execution_count": null,
   "metadata": {},
   "outputs": [],
   "source": [
    "pivot_df.dropna(axis=0).index[np.where(cluster_labels==1)]"
   ]
  },
  {
   "cell_type": "code",
   "execution_count": null,
   "metadata": {},
   "outputs": [],
   "source": []
  },
  {
   "cell_type": "code",
   "execution_count": null,
   "metadata": {},
   "outputs": [],
   "source": [
    "communities_df = []\n",
    "for label in np.unique(cluster_labels):\n",
    "    testdf = df[df['id'].isin(pivot_df.dropna(axis=0).index[np.where(cluster_labels==label)])]\n",
    "    partyvotes = testdf.groupby(['PartyAb', 'year'])['OrdinaryVotes'].sum().reset_index().sort_values(by='year')\n",
    "    partyvotes['normalized_score'] = partyvotes['OrdinaryVotes'] / partyvotes.groupby('year')['OrdinaryVotes'].transform('sum')\n",
    "    communities_df.append(partyvotes.pivot_table(index='PartyAb', columns='year', values='normalized_score', fill_value=0))\n",
    "    "
   ]
  },
  {
   "cell_type": "code",
   "execution_count": null,
   "metadata": {},
   "outputs": [],
   "source": [
    "winners = {}\n",
    "for community in communities_df:\n",
    "    winner = community[2004].idxmax()\n",
    "    if winner in winners.keys():\n",
    "        winners[winner]+=1\n",
    "    else:\n",
    "        winners[winner]=1"
   ]
  },
  {
   "cell_type": "code",
   "execution_count": null,
   "metadata": {},
   "outputs": [],
   "source": [
    "winners"
   ]
  },
  {
   "cell_type": "code",
   "execution_count": null,
   "metadata": {},
   "outputs": [],
   "source": [
    "xsamples = np.sort(np.random.randint(0,1000,100))\n",
    "ysamples = np.sin(xsamples*np.pi/1000 - np.pi/2) + np.random.randn(100)*0.5\n",
    "xmeaned = np.linspace(0,1000,100)\n",
    "\n",
    "shifts = np.linspace(0,5,100)\n",
    "errors = []\n",
    "for shift in shifts:\n",
    "    def getvalue(x):\n",
    "        xdiff = np.abs(x-xsamples)+shift\n",
    "        weights = 1/xdiff\n",
    "        return np.sum(ysamples * weights) / np.sum(weights)\n",
    "    getvalue = np.vectorize(getvalue)\n",
    "    ymeaned = getvalue(xmeaned)\n",
    "\n",
    "\n",
    "    # plt.scatter(xsamples,ysamples)\n",
    "    # plt.plot(xmeaned,ymeaned)\n",
    "    # plt.plot(xmeaned,np.sin(xmeaned*np.pi/1000 - np.pi/2))\n",
    "\n",
    "    error = np.mean((ymeaned-np.sin(xmeaned*np.pi/1000 - np.pi/2))**2)\n",
    "    errors.append(error)\n",
    "errors = np.asarray(errors)\n",
    "plt.plot(shifts,errors)\n",
    "plt.scatter(shifts,errors)"
   ]
  },
  {
   "cell_type": "code",
   "execution_count": null,
   "metadata": {},
   "outputs": [],
   "source": [
    "import geopandas as gpd     "
   ]
  },
  {
   "cell_type": "code",
   "execution_count": null,
   "metadata": {},
   "outputs": [],
   "source": [
    "unfliteredsa1geodata = gpd.read_file(\"SA1_2021_AUST_SHP_GDA2020/SA1_2021_AUST_GDA2020.shp\")\n",
    "unfliteredsa1geodata.head()"
   ]
  },
  {
   "cell_type": "code",
   "execution_count": null,
   "metadata": {},
   "outputs": [],
   "source": [
    "unfliteredsa1geodata[unfliteredsa1geodata['SA2_NAME21'].str.contains('Sydney')]"
   ]
  },
  {
   "cell_type": "code",
   "execution_count": null,
   "metadata": {},
   "outputs": [],
   "source": [
    "sa1geodata=unfliteredsa1geodata[~unfliteredsa1geodata[\"geometry\"].isnull()]\n",
    "sa1geodata=sa1geodata[sa1geodata['STE_NAME21']=='New South Wales']\n",
    "sa1geodata=sa1geodata[[\"SA1_CODE21\",\"AREASQKM21\",\"geometry\"]]\n",
    "sa1geodata['centroids']=sa1geodata['geometry'].to_crs('+proj=cea').centroid.to_crs(sa1geodata.crs)\n",
    "print(sa1geodata.shape)\n",
    "sa1geodata.head()"
   ]
  },
  {
   "cell_type": "code",
   "execution_count": null,
   "metadata": {},
   "outputs": [],
   "source": [
    "sa1geodata['neighbours']= sa1geodata.apply(lambda row: set(sa1geodata[sa1geodata['geometry'].touches(row['geometry'])][\"SA1_CODE21\"]),axis=1)"
   ]
  },
  {
   "cell_type": "code",
   "execution_count": null,
   "metadata": {},
   "outputs": [],
   "source": [
    "sa1geodata"
   ]
  }
 ],
 "metadata": {
  "kernelspec": {
   "display_name": "Python 3",
   "language": "python",
   "name": "python3"
  },
  "language_info": {
   "codemirror_mode": {
    "name": "ipython",
    "version": 3
   },
   "file_extension": ".py",
   "mimetype": "text/x-python",
   "name": "python",
   "nbconvert_exporter": "python",
   "pygments_lexer": "ipython3",
   "version": "3.10.4"
  }
 },
 "nbformat": 4,
 "nbformat_minor": 2
}
