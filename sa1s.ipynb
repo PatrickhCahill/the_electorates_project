{
 "cells": [
  {
   "cell_type": "code",
   "execution_count": 3,
   "metadata": {},
   "outputs": [],
   "source": [
    "import geopandas as gpd\n",
    "import pandas as pd"
   ]
  },
  {
   "cell_type": "code",
   "execution_count": 14,
   "metadata": {},
   "outputs": [],
   "source": [
    "sa1sbydivision2016 = gpd.read_file(\"nsw-esri-06042016/NSW_SA1s_25-02-2016.shp\")\n"
   ]
  },
  {
   "cell_type": "code",
   "execution_count": 7,
   "metadata": {},
   "outputs": [],
   "source": [
    "pollingplace_locs = pd.read_csv(\"2022/pollingplaces/GeneralPollingPlacesDownload-27966.csv\",header=1)"
   ]
  },
  {
   "cell_type": "code",
   "execution_count": 11,
   "metadata": {},
   "outputs": [],
   "source": [
    "primariesbypp = pd.read_csv(\"2022/primaries/HouseStateFirstPrefsByPollingPlaceDownload-27966-NSW.csv\",header=1)"
   ]
  },
  {
   "cell_type": "code",
   "execution_count": 17,
   "metadata": {},
   "outputs": [],
   "source": [
    "sa1s2021actual = gpd.read_file(\"SA1_2021_AUST_SHP_GDA2020/SA1_2021_AUST_GDA2020.shp\")"
   ]
  },
  {
   "cell_type": "code",
   "execution_count": 35,
   "metadata": {},
   "outputs": [],
   "source": [
    "def sevendigitconvert(elevendigit:int)->int:\n",
    "    '''SA1s can either be 11 digit code or 7 digit code - \n",
    "    11 digit code = state_id sa4 sa3 sa2 sa1\n",
    "    7 digit code = state_id sa2 sa1\n",
    "\n",
    "    This code just slices the sa4 sa3 code. We expected integers, return integers\n",
    "    '''\n",
    "    state_id=str(elevendigit)[0]\n",
    "    sa2sa1=str(elevendigit)[-6:]\n",
    "    return int(state_id+sa2sa1)"
   ]
  },
  {
   "cell_type": "code",
   "execution_count": null,
   "metadata": {},
   "outputs": [],
   "source": [
    "vote_inferral_sa12016 = pd.DataFrame(columns=[\"sa1_id_2016\"])"
   ]
  }
 ],
 "metadata": {
  "kernelspec": {
   "display_name": "Python 3",
   "language": "python",
   "name": "python3"
  },
  "language_info": {
   "codemirror_mode": {
    "name": "ipython",
    "version": 3
   },
   "file_extension": ".py",
   "mimetype": "text/x-python",
   "name": "python",
   "nbconvert_exporter": "python",
   "pygments_lexer": "ipython3",
   "version": "3.12.3"
  }
 },
 "nbformat": 4,
 "nbformat_minor": 2
}
