{
 "cells": [
  {
   "cell_type": "code",
   "execution_count": null,
   "metadata": {},
   "outputs": [],
   "source": [
    "import plotly.express as px\n",
    "import pandas as pd\n",
    "import geopandas as gpd\n",
    "import matplotlib.pyplot as plt\n",
    "import pandas as pd\n",
    "import numpy as np\n",
    "import os,sys\n",
    "import folium\n",
    "import branca.colormap as cm\n",
    "\n",
    "cwd = os.getcwd()\n",
    "\n",
    "dataloc = os.path.join(\"..\",\"data\",\"SA1_2021_AUST_SHP_GDA2020\",\"SA1_2021_AUST_GDA2020.shp\")\n",
    "sa1 = gpd.read_file(dataloc)\n",
    "# sa1.set_index(\"SA1_CODE21\",inplace=True)\n",
    "# fig = px.choropleth()\n"
   ]
  },
  {
   "cell_type": "code",
   "execution_count": null,
   "metadata": {},
   "outputs": [],
   "source": [
    "sa1cleaned = sa1[~pd.isnull(sa1.geometry)]\n",
    "sa1cleaned = sa1cleaned[sa1cleaned.STE_NAME21==\"New South Wales\"]"
   ]
  },
  {
   "cell_type": "code",
   "execution_count": null,
   "metadata": {},
   "outputs": [],
   "source": [
    "sa3s = sa1cleaned.dissolve(by='SA3_CODE21', aggfunc={\"AREASQKM21\":'sum','SA1_CODE21':'first','SA2_NAME21':'first'})"
   ]
  },
  {
   "cell_type": "code",
   "execution_count": null,
   "metadata": {},
   "outputs": [],
   "source": [
    "sa3s"
   ]
  },
  {
   "cell_type": "code",
   "execution_count": null,
   "metadata": {},
   "outputs": [],
   "source": [
    "x_map=sa3s.to_crs('+proj=cea').centroid.to_crs(sa3s.crs).x.mean()\n",
    "y_map=sa3s.to_crs('+proj=cea').centroid.to_crs(sa3s.crs).y.mean()\n",
    "print(x_map,y_map)"
   ]
  },
  {
   "cell_type": "code",
   "execution_count": null,
   "metadata": {},
   "outputs": [],
   "source": [
    "mymap = folium.Map(location=[y_map, x_map], zoom_start=7,tiles=None)\n",
    "folium.TileLayer('CartoDB positron',name=\"Light Map\",control=False).add_to(mymap)\n",
    "myscale = (sa3s['AREASQKM21'].quantile((0,0.1,0.75,0.9,0.98,1))).tolist()\n",
    "\n",
    "folium.Choropleth(\n",
    " geo_data=sa3s,\n",
    " name='Choropleth',\n",
    " data=sa3s,\n",
    " columns=['SA1_CODE21','AREASQKM21'],\n",
    " key_on=\"feature.properties.SA1_CODE21\",\n",
    " fill_color='RdBu',\n",
    " threshold_scale=myscale,\n",
    " fill_opacity=0.5,\n",
    " line_opacity=0.2,\n",
    " legend_name=\"Area sq. kms\",\n",
    " smooth_factor=0\n",
    ").add_to(mymap)\n",
    "\n",
    "style_function = lambda x: {'fillColor': '#ffffff', \n",
    "                            'color':'#000000', \n",
    "                            'fillOpacity': 0.1, \n",
    "                            'weight': 0.1}\n",
    "highlight_function = lambda x: {'fillColor': '#000000', \n",
    "                                'color':'#000000', \n",
    "                                'fillOpacity': 0.50, \n",
    "                                'weight': 0.1}\n",
    "NIL = folium.features.GeoJson(\n",
    "    sa3s,\n",
    "    style_function=style_function, \n",
    "    control=False,\n",
    "    highlight_function=highlight_function, \n",
    "    tooltip=folium.features.GeoJsonTooltip(\n",
    "        fields=['SA2_NAME21','AREASQKM21'],\n",
    "        aliases=['Suburb: ','Area: '],\n",
    "        style=(\"background-color: white; color: #333333; font-family: arial; font-size: 12px; padding: 10px;\") \n",
    "    )\n",
    ")\n",
    "mymap.add_child(NIL)\n",
    "mymap.keep_in_front(NIL)\n",
    "folium.LayerControl().add_to(mymap)\n"
   ]
  },
  {
   "cell_type": "code",
   "execution_count": null,
   "metadata": {},
   "outputs": [],
   "source": [
    "mymap.save(\"output.html\")"
   ]
  },
  {
   "cell_type": "code",
   "execution_count": null,
   "metadata": {},
   "outputs": [],
   "source": []
  }
 ],
 "metadata": {
  "kernelspec": {
   "display_name": "Python 3",
   "language": "python",
   "name": "python3"
  },
  "language_info": {
   "codemirror_mode": {
    "name": "ipython",
    "version": 3
   },
   "file_extension": ".py",
   "mimetype": "text/x-python",
   "name": "python",
   "nbconvert_exporter": "python",
   "pygments_lexer": "ipython3",
   "version": "3.10.4"
  }
 },
 "nbformat": 4,
 "nbformat_minor": 2
}
